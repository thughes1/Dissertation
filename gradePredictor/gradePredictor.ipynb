{
 "cells": [
  {
   "cell_type": "code",
   "execution_count": 2,
   "id": "104bded7-5331-4577-9e8e-bb0d1f997777",
   "metadata": {},
   "outputs": [
    {
     "name": "stdin",
     "output_type": "stream",
     "text": [
      "Please enter Moonboard year (2016 or 2017):  2017\n"
     ]
    },
    {
     "name": "stdout",
     "output_type": "stream",
     "text": [
      "Enter the start holds as a list of hold positions. Separate each position with a space.\n",
      "For example: 'F6 H5'\n"
     ]
    },
    {
     "name": "stdin",
     "output_type": "stream",
     "text": [
      "Enter start holds:  F6 H5\n"
     ]
    },
    {
     "name": "stdout",
     "output_type": "stream",
     "text": [
      "Enter the remaining holds as a list of hold positions. Separate each position with a space.\n",
      "For example: 'F8 J11 E13 C16 B18'\n"
     ]
    },
    {
     "name": "stdin",
     "output_type": "stream",
     "text": [
      "Enter remaining holds:  F8 J11 E13 C16 B18\n"
     ]
    },
    {
     "name": "stdout",
     "output_type": "stream",
     "text": [
      "1/1 [==============================] - 1s 873ms/step\n",
      "Predicted Grade: V4\n"
     ]
    }
   ],
   "source": [
    "import sequencer2\n",
    "import pandas as pd\n",
    "import re\n",
    "import ast\n",
    "import numpy as np\n",
    "import pandas as pd\n",
    "import warnings\n",
    "from tensorflow.keras.models import load_model\n",
    "from tensorflow.keras.preprocessing.sequence import pad_sequences\n",
    "\n",
    "def convertToVGrade(number):\n",
    "    ''' Converts 3.0, 4.0, 5.0, etc., to V3, V4, V5, etc. '''\n",
    "    with warnings.catch_warnings():\n",
    "        warnings.filterwarnings(\"ignore\", category=FutureWarning)\n",
    "        # Convert to int\n",
    "        number = int(number)\n",
    "    return 'V' + str(number)\n",
    "\n",
    "def preprocess_input(input_data):\n",
    "    hold_types = [\"Small Crimp\", \"Medium Crimp\", \"Large Crimp\", \"Pocket\", \"Small Pocket\", \"Jug\", \"Small Pinch\", \"Medium Pinch\", \"Large Pinch\", \"Slopy Pinch\", \"Sloper\"]\n",
    "    \n",
    "    encoded_seq = []\n",
    "    \n",
    "    for seq in input_data:\n",
    "        current_hold1, current_hold2, target_hold, distance = seq\n",
    "        encoded_hold = [0] * (len(hold_types) + 1)  # +1 for the distance\n",
    "        \n",
    "        if current_hold1 in hold_types:\n",
    "            encoded_hold[hold_types.index(current_hold1)] = 1\n",
    "        if current_hold2 in hold_types:\n",
    "            encoded_hold[hold_types.index(current_hold2)] = 1\n",
    "        if target_hold in hold_types:\n",
    "            encoded_hold[hold_types.index(target_hold)] = 1\n",
    "        \n",
    "        # Append the distance as the last element of the encoded sequence\n",
    "        encoded_hold[-1] = distance\n",
    "        \n",
    "        encoded_seq.append(encoded_hold)\n",
    "    \n",
    "    # Pad sequences with masking to a length of 12\n",
    "    max_seq_length = 12\n",
    "    padded_input = pad_sequences([encoded_seq], padding='post', dtype='float32', maxlen=max_seq_length)\n",
    "    return padded_input\n",
    "\n",
    "def predict(moves):\n",
    "    model = load_model(\"2016Model.h5\") \n",
    "    padded_input = preprocess_input(moves)\n",
    "    if padded_input is not None:\n",
    "        # Predict using the loaded model\n",
    "        predicted_grade = model.predict(padded_input)\n",
    "        predicted_grade_index = np.argmax(predicted_grade)\n",
    "        predicted_grade_label = convertToVGrade(predicted_grade_index + 3)  # Adjust for your grade labels\n",
    "        return predicted_grade_label\n",
    "    else:\n",
    "        return \"Invalid input data\"\n",
    "\n",
    "def main():\n",
    "    # Prompt the user to enter the year\n",
    "    while True:\n",
    "        # Prompt the user to enter the year\n",
    "        year = input(\"Please enter Moonboard year (2016 or 2017): \")\n",
    "        if year == '2016' or year == '2017':\n",
    "            break  # Exit the loop if a valid year is entered\n",
    "        else:\n",
    "            print(\"Please ensure the year entered is either 2016 or 2017\")\n",
    "    \n",
    "    # Prompt the user to enter start holds\n",
    "    print(\"Enter the start holds as a list of hold positions. Separate each position with a space.\")\n",
    "    print(\"For example: 'F6 H5'\")\n",
    "    start_holds_input = input(\"Enter start holds: \").upper().split()\n",
    "\n",
    "    # Create the start_holds list from user input\n",
    "    start_holds = [{'Position': position} for position in start_holds_input]\n",
    "\n",
    "    # Prompt the user to enter the rest of the holds\n",
    "    print(\"Enter the remaining holds as a list of hold positions. Separate each position with a space.\")\n",
    "    print(\"For example: 'F8 J11 E13 C16 B18'\")\n",
    "    remaining_holds_input = input(\"Enter remaining holds: \").upper().split()\n",
    "\n",
    "    # Create the remaining_holds list from user input\n",
    "    remaining_holds = [{'Position': position} for position in remaining_holds_input]\n",
    "\n",
    "    # Combine start holds and remaining holds into holds_data\n",
    "    holds_data = [start_holds, remaining_holds]\n",
    "\n",
    "    # Call the function from sequencer2 module\n",
    "    result = sequencer2.main(holds_data, year)\n",
    "    \n",
    "    # Call the predict function to predict the grade\n",
    "    grade = predict(result)\n",
    "    print(\"Predicted Grade:\", grade)\n",
    "\n",
    "if __name__ == \"__main__\":\n",
    "    main()"
   ]
  },
  {
   "cell_type": "code",
   "execution_count": null,
   "id": "685332f6-9e17-4034-966d-c5d072ab992a",
   "metadata": {},
   "outputs": [],
   "source": []
  },
  {
   "cell_type": "code",
   "execution_count": null,
   "id": "71307765-5756-4ef0-a864-c30fc89a15f1",
   "metadata": {},
   "outputs": [],
   "source": []
  }
 ],
 "metadata": {
  "kernelspec": {
   "display_name": "Python 3 (ipykernel)",
   "language": "python",
   "name": "python3"
  },
  "language_info": {
   "codemirror_mode": {
    "name": "ipython",
    "version": 3
   },
   "file_extension": ".py",
   "mimetype": "text/x-python",
   "name": "python",
   "nbconvert_exporter": "python",
   "pygments_lexer": "ipython3",
   "version": "3.8.10"
  }
 },
 "nbformat": 4,
 "nbformat_minor": 5
}
